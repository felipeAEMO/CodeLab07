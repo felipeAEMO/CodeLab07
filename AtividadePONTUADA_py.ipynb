{
  "nbformat": 4,
  "nbformat_minor": 0,
  "metadata": {
    "colab": {
      "name": "AtividadePONTUADA.py",
      "provenance": [],
      "authorship_tag": "ABX9TyOK6Der+zFFYQ7wisRN8bli",
      "include_colab_link": true
    },
    "kernelspec": {
      "name": "python3",
      "display_name": "Python 3"
    },
    "language_info": {
      "name": "python"
    }
  },
  "cells": [
    {
      "cell_type": "markdown",
      "metadata": {
        "id": "view-in-github",
        "colab_type": "text"
      },
      "source": [
        "<a href=\"https://colab.research.google.com/github/felipeProgrammingDesign/CodeLab07/blob/master/AtividadePONTUADA_py.ipynb\" target=\"_parent\"><img src=\"https://colab.research.google.com/assets/colab-badge.svg\" alt=\"Open In Colab\"/></a>"
      ]
    },
    {
      "cell_type": "code",
      "metadata": {
        "colab": {
          "base_uri": "https://localhost:8080/",
          "height": 129
        },
        "id": "kCpBdXgCSm-E",
        "outputId": "6dd0e2f9-a098-4752-b004-12f5818e15e2"
      },
      "source": [
        "import numpy as np\n",
        "\n",
        "class Perceptron(object):\n",
        "\n",
        "  def __init__(self, no_of_inputs, epocas = 100, learning_rate = 0.01):\n",
        "    self.epocas = epocas\n",
        "    self.learning_rate = learning_rate\n",
        "    self.weights = np.zero(no_of_inputs + 1)\n",
        "\n",
        "   def predict(self, inputs):\n",
        "     summation = np.dot(inputs, self.weights[1:] + self.weights[0])\n",
        "     if summation > 0:\n",
        "       summation = 1\n",
        "       else:\n",
        "         summation = 0\n",
        "         return summation\n",
        "\n",
        "\n",
        "  def train(self, trainning_inputs, labels):\n",
        "  for i in range(self.epocas):\n",
        "    for inputs, label in zip(trainning_inputs, labels):\n",
        "      prediction = self.predict(inputs)\n",
        "      self.weights[1:] += self.learning_rate * (label - prediction) * inputs\n",
        "      self.weights[0] += self.learning_rate * (label - prediction)\n",
        "\n",
        "  #def training_inputs = []\n",
        "  #training_inputs.append(np.array([1,1]))\n",
        "  #training_inputs.append(np.array([1,0]))\n",
        "  #training_inputs.append(np.array([0,1]))\n",
        "  #training_inputs.append(np.array([0,0]))\n",
        "\n",
        "  labels = np.array([1,0,0,0])\n",
        "\n",
        "  def training_inputs = []\n",
        "          training_inputs.append(np.array([0,0]))\n",
        "          training_inputs.append(np.array([5,5]))\n",
        "          training_inputs.append(np.array([6,2]))\n",
        "          training_inputs.append(np.array([6,3]))\n",
        "          training_inputs.append(np.array([6,6]))\n",
        "          training_inputs.append(np.array([7,3]))\n",
        "          training_inputs.append(np.array([7,6]))\n",
        "          training_inputs.append(np.array([7,7]))\n",
        "          training_inputs.append(np.array([8,2]))\n",
        "          training_inputs.append(np.array([8,8]))\n",
        "          training_inputs.append(np.array([9,1]))\n",
        "          training_inputs.append(np.array([10,2]))\n",
        "          training_inputs.append(np.array([10,3]))\n",
        "          training_inputs.append(np.array([10,5]))\n",
        "          training_inputs.append(np.array([10,6]))\n",
        "\n",
        "          labels = np.array([0,0,0,0,1,0,1,1,0,1,0,1,1,1,1])\n",
        "          labels = a;\n",
        "          if(a == 1):\n",
        "            print(\"aprovado\")\n",
        "            else:\n",
        "              print(\"reprovado\")\n",
        "\n",
        "          perceptron = Perceptron(15)\n",
        "          perceptron.train(training_inputs,labels,a)\n",
        "          inputs = np.array([0,0]\n",
        "          print(perceptron.predict(inputs))\n",
        "          inputs = np.array([5,5]\n",
        "          print(perceptron.predict(inputs))\n",
        "          inputs = np.array([6,2]\n",
        "          print(perceptron.predict(inputs))\n",
        "          inputs = np.array([6,3]\n",
        "          print(perceptron.predict(inputs))\n",
        "          inputs = np.array([6,6]\n",
        "          print(perceptron.predict(inputs))\n",
        "          inputs = np.array([7,3]\n",
        "          print(perceptron.predict(inputs))\n",
        "          inputs = np.array([7,6]\n",
        "          print(perceptron.predict(inputs))\n",
        "          inputs = np.array([7,7]\n",
        "          print(perceptron.predict(inputs))\n",
        "          inputs = np.array([8,2]\n",
        "          print(perceptron.predict(inputs))\n",
        "          inputs = np.array([8,8]\n",
        "          print(perceptron.predict(inputs))\n",
        "          inputs = np.array([9,1]\n",
        "          print(perceptron.predict(inputs))\n",
        "          inputs = np.array([10,2]\n",
        "          print(perceptron.predict(inputs))\n",
        "          inputs = np.array([10,3]\n",
        "          print(perceptron.predict(inputs))\n",
        "          inputs = np.array([10,5]\n",
        "          print(perceptron.predict(inputs))\n",
        "          inputs = np.array([10,6]\n",
        "          print(perceptron.predict(inputs))\n",
        "\n",
        "  "
      ],
      "execution_count": 2,
      "outputs": [
        {
          "output_type": "error",
          "ename": "IndentationError",
          "evalue": "ignored",
          "traceback": [
            "\u001b[0;36m  File \u001b[0;32m\"<ipython-input-2-b5d5f3ef11af>\"\u001b[0;36m, line \u001b[0;32m10\u001b[0m\n\u001b[0;31m    def predict(self, inputs):\u001b[0m\n\u001b[0m                              ^\u001b[0m\n\u001b[0;31mIndentationError\u001b[0m\u001b[0;31m:\u001b[0m unindent does not match any outer indentation level\n"
          ]
        }
      ]
    }
  ]
}